{
 "cells": [
  {
   "cell_type": "markdown",
   "metadata": {},
   "source": [
    "# Softmax exercise\n",
    "\n",
    "*Complete and hand in this completed worksheet (including its outputs and any supporting code outside of the worksheet) with your assignment submission. For more details see the [assignments page](http://vision.stanford.edu/teaching/cs231n/assignments.html) on the course website.*\n",
    "\n",
    "This exercise is analogous to the SVM exercise. You will:\n",
    "\n",
    "- implement a fully-vectorized **loss function** for the Softmax classifier\n",
    "- implement the fully-vectorized expression for its **analytic gradient**\n",
    "- **check your implementation** with numerical gradient\n",
    "- use a validation set to **tune the learning rate and regularization** strength\n",
    "- **optimize** the loss function with **SGD**\n",
    "- **visualize** the final learned weights\n"
   ]
  },
  {
   "cell_type": "code",
   "execution_count": 1,
   "metadata": {
    "collapsed": true
   },
   "outputs": [],
   "source": [
    "from __future__ import print_function\n",
    "\n",
    "import sys\n",
    "import numpy as np\n",
    "import matplotlib.pyplot as plt\n",
    "from data_utils import *\n",
    "\n",
    "%matplotlib inline\n",
    "plt.rcParams['figure.figsize'] = (10., 8.)  # set default size of plots\n",
    "plt.rcParams['image.interpolation'] = 'nearest'\n",
    "plt.rcParams['image.cmap'] = 'gray'\n",
    "\n",
    "# for auto-reloading extenrnal modules\n",
    "# see http://stackoverflow.com/questions/1907993/autoreload-of-modules-in-ipython\n",
    "%load_ext autoreload\n",
    "%autoreload 2"
   ]
  },
  {
   "cell_type": "code",
   "execution_count": 2,
   "metadata": {},
   "outputs": [
    {
     "name": "stdout",
     "output_type": "stream",
     "text": [
      "Train data shape        :  (49000, 3073)\n",
      "Train labels shape      :  (49000,)\n",
      "Validation data shape   :  (1000, 3073)\n",
      "Validation labels shape :  (1000,)\n",
      "Test data shape         :  (1000, 3073)\n",
      "Test labels shape       :  (1000,)\n",
      "dev data shape          :  (500, 3073)\n",
      "dev labels shape        :  (500,)\n"
     ]
    }
   ],
   "source": [
    "def get_CIFAR10_data(num_training=49000, num_validation=1000, num_test=1000, num_dev=500):\n",
    "    \"\"\"\n",
    "    Load the CIFAR-10 dataset from disk and perform preprocessing to prepare\n",
    "    it for the linear classifier. These are the same steps as we used for the\n",
    "    SVM, but condensed to a single function.  \n",
    "    \"\"\"\n",
    "\n",
    "    # Load the raw CIFAR-10 data\n",
    "    cifar10_dir = 'D:\\\\DataSet\\\\Cifar\\\\cifar-10-batches-py'\n",
    "    X_train, y_train, X_test, y_test = load_CIFAR10(cifar10_dir)\n",
    "    \n",
    "    # subsample the data\n",
    "    mask = list(range(num_training, num_training + num_validation))\n",
    "    X_val = X_train[mask]\n",
    "    y_val = y_train[mask]\n",
    "    mask = list(range(num_training))\n",
    "    X_train = X_train[mask]\n",
    "    y_train = y_train[mask]\n",
    "    mask = list(range(num_test))\n",
    "    X_test = X_test[mask]\n",
    "    y_test = y_test[mask]\n",
    "    mask = np.random.choice(num_training, num_dev, replace=False)\n",
    "    X_dev = X_train[mask]\n",
    "    y_dev = y_train[mask]\n",
    "    \n",
    "    # Preprocessing: reshape the image data into rows\n",
    "    X_train = np.reshape(X_train, (X_train.shape[0], -1))\n",
    "    X_val = np.reshape(X_val, (X_val.shape[0], -1))\n",
    "    X_test = np.reshape(X_test, (X_test.shape[0], -1))\n",
    "    X_dev = np.reshape(X_dev, (X_dev.shape[0], -1))\n",
    "    \n",
    "    # Normalize the data: subtract the mean image\n",
    "    mean_image = np.mean(X_train, axis = 0)\n",
    "    X_train -= mean_image\n",
    "    X_val -= mean_image\n",
    "    X_test -= mean_image\n",
    "    X_dev -= mean_image\n",
    "    \n",
    "    # add bias dimension and transform into columns\n",
    "    X_train = np.hstack([X_train, np.ones((X_train.shape[0], 1))])\n",
    "    X_val = np.hstack([X_val, np.ones((X_val.shape[0], 1))])\n",
    "    X_test = np.hstack([X_test, np.ones((X_test.shape[0], 1))])\n",
    "    X_dev = np.hstack([X_dev, np.ones((X_dev.shape[0], 1))])\n",
    "    \n",
    "    return X_train, y_train, X_val, y_val, X_test, y_test, X_dev, y_dev\n",
    "\n",
    "\n",
    "# Invoke the above function to get our data.\n",
    "x_train, y_train, x_val, y_val, x_test, y_test, x_dev, y_dev = get_CIFAR10_data()\n",
    "\n",
    "print('Train data shape        : ', x_train.shape)\n",
    "print('Train labels shape      : ', y_train.shape)\n",
    "print('Validation data shape   : ', x_val.shape)\n",
    "print('Validation labels shape : ', y_val.shape)\n",
    "print('Test data shape         : ', x_test.shape)\n",
    "print('Test labels shape       : ', y_test.shape)\n",
    "print('dev data shape          : ', x_dev.shape)\n",
    "print('dev labels shape        : ', y_dev.shape)"
   ]
  },
  {
   "cell_type": "markdown",
   "metadata": {},
   "source": [
    "## Softmax Classifier\n",
    "\n",
    "Your code for this section will all be written inside **cs231n/classifiers/softmax.py**. \n"
   ]
  },
  {
   "cell_type": "code",
   "execution_count": 3,
   "metadata": {},
   "outputs": [
    {
     "name": "stdout",
     "output_type": "stream",
     "text": [
      "loss: 2.376406\n",
      "sanity check: 2.302585\n"
     ]
    }
   ],
   "source": [
    "# First implement the naive softmax loss function with nested loops.\n",
    "# Open the file cs231n/classifiers/softmax.py and implement the\n",
    "# softmax_loss_naive function.\n",
    "\n",
    "from classifiers.softmax import softmax_loss_naive\n",
    "import time\n",
    "\n",
    "\n",
    "# Generate a random softmax weight matrix and use it to compute the loss.\n",
    "W = np.random.randn(3073, 10) * 0.0001\n",
    "loss, grad = softmax_loss_naive(W, x_dev, y_dev, 0.0)\n",
    "\n",
    "# As a rough sanity check, our loss should be something close to -log(0.1).\n",
    "print('loss: %f' % loss)\n",
    "print('sanity check: %f' % (-np.log(0.1)))"
   ]
  },
  {
   "cell_type": "markdown",
   "metadata": {},
   "source": [
    "## Inline Question 1:\n",
    "Why do we expect our loss to be close to -log(0.1)? Explain briefly.**\n",
    "\n",
    "**Your answer:** *Fill this in*\n"
   ]
  },
  {
   "cell_type": "code",
   "execution_count": 4,
   "metadata": {},
   "outputs": [
    {
     "name": "stdout",
     "output_type": "stream",
     "text": [
      "numerical: -0.422873 analytic: -0.422873, relative error: 2.384739e-08\n",
      "numerical: 0.499135 analytic: 0.499135, relative error: 1.727535e-08\n",
      "numerical: 0.825873 analytic: 0.825873, relative error: 6.384017e-09\n",
      "numerical: -1.045685 analytic: -1.045685, relative error: 1.536686e-08\n",
      "numerical: 1.263932 analytic: 1.263932, relative error: 1.854859e-08\n",
      "numerical: 2.937321 analytic: 2.937321, relative error: 4.851205e-09\n",
      "numerical: -1.281840 analytic: -1.281840, relative error: 1.882486e-08\n",
      "numerical: 1.249058 analytic: 1.249058, relative error: 4.113503e-08\n",
      "numerical: -0.030420 analytic: -0.030420, relative error: 4.790259e-07\n",
      "numerical: 0.610976 analytic: 0.610976, relative error: 5.964138e-08\n",
      "numerical: -0.289150 analytic: -0.289150, relative error: 5.612447e-08\n",
      "numerical: 0.088908 analytic: 0.088908, relative error: 3.903249e-07\n",
      "numerical: -3.710800 analytic: -3.710800, relative error: 8.980289e-09\n",
      "numerical: 0.370642 analytic: 0.370642, relative error: 3.519572e-08\n",
      "numerical: -2.705957 analytic: -2.705957, relative error: 2.748060e-08\n",
      "numerical: -0.233352 analytic: -0.233352, relative error: 1.213718e-07\n",
      "numerical: -0.674021 analytic: -0.674021, relative error: 1.501164e-08\n",
      "numerical: -4.942356 analytic: -4.942356, relative error: 6.235704e-09\n",
      "numerical: 1.761511 analytic: 1.761511, relative error: 2.014808e-08\n",
      "numerical: -1.507111 analytic: -1.507111, relative error: 6.224344e-09\n"
     ]
    }
   ],
   "source": [
    "# Complete the implementation of softmax_loss_naive and implement a (naive)\n",
    "# version of the gradient that uses nested loops.\n",
    "loss, grad = softmax_loss_naive(W, x_dev, y_dev, 0.)\n",
    "\n",
    "# As we did for the SVM, use numeric gradient checking as a debugging tool.\n",
    "# The numeric gradient should be close to the analytic gradient.\n",
    "from gradient_check import grad_check_sparse\n",
    "\n",
    "\n",
    "f = lambda w: softmax_loss_naive(w, x_dev, y_dev, 0.)[0]\n",
    "grad_numerical = grad_check_sparse(f, W, grad, 10)\n",
    "\n",
    "# similar to SVM case, do another gradient check with regularization\n",
    "loss, grad = softmax_loss_naive(W, x_dev, y_dev, 5e1)\n",
    "f = lambda w: softmax_loss_naive(w, x_dev, y_dev, 5e1)[0]\n",
    "grad_numerical = grad_check_sparse(f, W, grad, 10)"
   ]
  },
  {
   "cell_type": "code",
   "execution_count": 23,
   "metadata": {},
   "outputs": [
    {
     "name": "stdout",
     "output_type": "stream",
     "text": [
      "naive loss: 2.376406e+00 computed in 0.063335s\n",
      "vectorized loss: 2.376406e+00 computed in 0.006517s\n",
      "Loss difference: 0.000000\n",
      "Gradient difference: 0.000000\n"
     ]
    }
   ],
   "source": [
    "# Now that we have a naive implementation of the softmax loss function and its gradient,\n",
    "# implement a vectorized version in softmax_loss_vectorized.\n",
    "# The two versions should compute the same results, but the vectorized version should be\n",
    "# much faster.\n",
    "tic = time.time()\n",
    "loss_naive, grad_naive = softmax_loss_naive(W, x_dev, y_dev, 0.000005)\n",
    "toc = time.time()\n",
    "print('naive loss: %e computed in %fs' % (loss_naive, toc - tic))\n",
    "\n",
    "from classifiers.softmax import softmax_loss_vectorized\n",
    "\n",
    "\n",
    "tic = time.time()\n",
    "loss_vectorized, grad_vectorized = softmax_loss_vectorized(W, x_dev, y_dev, 0.000005)\n",
    "toc = time.time()\n",
    "print('vectorized loss: %e computed in %fs' % (loss_vectorized, toc - tic))\n",
    "\n",
    "# As we did for the SVM, we use the Frobenius norm to compare the two versions\n",
    "# of the gradient.\n",
    "grad_difference = np.linalg.norm(grad_naive - grad_vectorized, ord='fro')\n",
    "print('Loss difference: %f' % np.abs(loss_naive - loss_vectorized))\n",
    "print('Gradient difference: %f' % grad_difference)"
   ]
  },
  {
   "cell_type": "code",
   "execution_count": 25,
   "metadata": {},
   "outputs": [
    {
     "name": "stdout",
     "output_type": "stream",
     "text": [
      "[+] Iter 0, loss : 388.4581162028409\n",
      "[+] Iter 100, loss : 235.31685558990168\n",
      "[+] Iter 200, loss : 143.07626981654298\n",
      "[+] Iter 300, loss : 87.31118708334863\n",
      "[+] Iter 400, loss : 53.562394378397585\n",
      "[+] Iter 500, loss : 33.2057171542981\n",
      "[+] Iter 600, loss : 20.937897666847462\n",
      "[+] Iter 700, loss : 13.422039453007491\n",
      "[+] Iter 800, loss : 8.86624137962917\n",
      "[+] Iter 900, loss : 6.245751236483384\n",
      "[+] Iter 1000, loss : 4.545979502722833\n",
      "[+] Iter 1100, loss : 3.53594844563289\n",
      "[+] Iter 1200, loss : 2.955739246472808\n",
      "[+] Iter 1300, loss : 2.4821872707413215\n",
      "[+] Iter 1400, loss : 2.397219997794025\n",
      "[+] Iter 0, loss : 771.6582456591675\n",
      "[+] Iter 100, loss : 283.3802181022822\n",
      "[+] Iter 200, loss : 104.94344339566214\n",
      "[+] Iter 300, loss : 39.66557191479011\n",
      "[+] Iter 400, loss : 15.814910101127438\n",
      "[+] Iter 500, loss : 7.157623541943773\n",
      "[+] Iter 600, loss : 3.9433145366895777\n",
      "[+] Iter 700, loss : 2.7552986915216016\n",
      "[+] Iter 800, loss : 2.370644802836214\n",
      "[+] Iter 900, loss : 2.2227270212335872\n",
      "[+] Iter 1000, loss : 2.0912937967157035\n",
      "[+] Iter 1100, loss : 2.0926184143952202\n",
      "[+] Iter 1200, loss : 2.0934236482234305\n",
      "[+] Iter 1300, loss : 2.1113522978540766\n",
      "[+] Iter 1400, loss : 2.117106331543796\n",
      "[+] Iter 0, loss : 392.2300303660224\n",
      "[+] Iter 100, loss : 32.995165157493666\n",
      "[+] Iter 200, loss : 4.526048200356908\n",
      "[+] Iter 300, loss : 2.2147939547458315\n",
      "[+] Iter 400, loss : 2.0500570887351572\n",
      "[+] Iter 500, loss : 2.058008336558368\n",
      "[+] Iter 600, loss : 2.0230964762285635\n",
      "[+] Iter 700, loss : 2.0789416033873485\n",
      "[+] Iter 800, loss : 2.0853715138793847\n",
      "[+] Iter 900, loss : 2.035664596063504\n",
      "[+] Iter 1000, loss : 2.005572393050237\n",
      "[+] Iter 1100, loss : 2.0419423506268206\n",
      "[+] Iter 1200, loss : 2.068242690028075\n",
      "[+] Iter 1300, loss : 1.9940201894714278\n",
      "[+] Iter 1400, loss : 2.0297213582436595\n",
      "[+] Iter 0, loss : 777.2814911096388\n",
      "[+] Iter 100, loss : 6.864299184422552\n",
      "[+] Iter 200, loss : 2.0644379761170097\n",
      "[+] Iter 300, loss : 2.050433721333216\n",
      "[+] Iter 400, loss : 2.073407613219635\n",
      "[+] Iter 500, loss : 2.0743008470342192\n",
      "[+] Iter 600, loss : 2.1063092784481348\n",
      "[+] Iter 700, loss : 2.0564968750049175\n",
      "[+] Iter 800, loss : 2.0675524760913153\n",
      "[+] Iter 900, loss : 2.112206918159624\n",
      "[+] Iter 1000, loss : 2.036315570425227\n",
      "[+] Iter 1100, loss : 2.0133714530571347\n",
      "[+] Iter 1200, loss : 2.123910786173132\n",
      "[+] Iter 1300, loss : 2.1077778778962144\n",
      "[+] Iter 1400, loss : 2.085481581895029\n",
      "lr 1.000000e-07 reg 2.500000e+04 train accuracy: 0.346612 val accuracy: 0.353000\n",
      "lr 1.000000e-07 reg 5.000000e+04 train accuracy: 0.321959 val accuracy: 0.341000\n",
      "lr 5.000000e-07 reg 2.500000e+04 train accuracy: 0.354245 val accuracy: 0.365000\n",
      "lr 5.000000e-07 reg 5.000000e+04 train accuracy: 0.323551 val accuracy: 0.345000\n",
      "best validation accuracy achieved during cross-validation: 0.365000\n"
     ]
    }
   ],
   "source": [
    "# Use the validation set to tune hyperparameters (regularization strength and\n",
    "# learning rate). You should experiment with different ranges for the learning\n",
    "# rates and regularization strengths; if you are careful you should be able to\n",
    "# get a classification accuracy of over 0.35 on the validation set.\n",
    "from classifiers.linear_classifier import Softmax\n",
    "\n",
    "\n",
    "results = {}\n",
    "best_val = -1\n",
    "best_softmax = None\n",
    "learning_rates = [1e-7, 5e-7]\n",
    "regularization_strengths = [2.5e4, 5e4]\n",
    "\n",
    "################################################################################\n",
    "# TODO:                                                                        #\n",
    "# Use the validation set to set the learning rate and regularization strength. #\n",
    "# This should be identical to the validation that you did for the SVM; save    #\n",
    "# the best trained softmax classifer in best_softmax.                          #\n",
    "################################################################################\n",
    "\n",
    "for lr in learning_rates:\n",
    "    for reg in regularization_strengths:\n",
    "        # Linear SVM by lr & reg\n",
    "        softmax = Softmax(n_iters=1500, batch_size=200, learning_rate=lr, regularization=reg)\n",
    "        \n",
    "        # training\n",
    "        softmax.train(x_train, y_train)\n",
    "        \n",
    "        # prediction\n",
    "        y_train_pred = softmax.predict(x_train)\n",
    "        y_val_pred = softmax.predict(x_val)\n",
    "        \n",
    "        # accuracy\n",
    "        train_acc = np.mean(y_train_pred == y_train)\n",
    "        val_acc = np.mean(y_val_pred == y_val)\n",
    "        \n",
    "        # acc results\n",
    "        results[(lr, reg)] = (train_acc, val_acc)\n",
    "        \n",
    "        # update best acc & svm\n",
    "        if val_acc > best_val:\n",
    "            best_val = val_acc\n",
    "            best_softmax = softmax\n",
    "\n",
    "################################################################################\n",
    "#                              END OF YOUR CODE                                #\n",
    "################################################################################\n",
    "    \n",
    "# Print out results.\n",
    "for lr, reg in sorted(results):\n",
    "    train_accuracy, val_accuracy = results[(lr, reg)]\n",
    "    print('lr %e reg %e train accuracy: %f val accuracy: %f' % (lr, reg, train_accuracy, val_accuracy))\n",
    "\n",
    "print('best validation accuracy achieved during cross-validation: %f' % best_val)"
   ]
  },
  {
   "cell_type": "code",
   "execution_count": 27,
   "metadata": {},
   "outputs": [
    {
     "name": "stdout",
     "output_type": "stream",
     "text": [
      "softmax on raw pixels final test set accuracy: 0.358000\n"
     ]
    }
   ],
   "source": [
    "# evaluate on test set\n",
    "# Evaluate the best softmax on test set\n",
    "y_test_pred = best_softmax.predict(x_test)\n",
    "test_accuracy = np.mean(y_test == y_test_pred)\n",
    "\n",
    "print('softmax on raw pixels final test set accuracy: %f' % (test_accuracy, ))"
   ]
  },
  {
   "cell_type": "code",
   "execution_count": 28,
   "metadata": {},
   "outputs": [
    {
     "data": {
      "image/png": "[encoded data removed]",
      "text/plain": [
       "<matplotlib.figure.Figure at 0x1c31f44f320>"
      ]
     },
     "metadata": {},
     "output_type": "display_data"
    }
   ],
   "source": [
    "# Visualize the learned weights for each class\n",
    "w = best_softmax.W[:-1,:] # strip out the bias\n",
    "w = w.reshape(32, 32, 3, 10)\n",
    "\n",
    "w_min, w_max = np.min(w), np.max(w)\n",
    "\n",
    "classes = ['plane', 'car', 'bird', 'cat', 'deer', 'dog', 'frog', 'horse', 'ship', 'truck']\n",
    "for i in range(10):\n",
    "    plt.subplot(2, 5, i + 1)\n",
    "    \n",
    "    # Rescale the weights to be between 0 and 255\n",
    "    wimg = 255. * (w[:, :, :, i].squeeze() - w_min) / (w_max - w_min)\n",
    "    plt.imshow(wimg.astype('uint8'))\n",
    "    plt.axis('off')\n",
    "    plt.title(classes[i])"
   ]
  }
 ],
 "metadata": {
  "kernelspec": {
   "display_name": "Python 3",
   "language": "python",
   "name": "python3"
  },
  "language_info": {
   "codemirror_mode": {
    "name": "ipython",
    "version": 3
   },
   "file_extension": ".py",
   "mimetype": "text/x-python",
   "name": "python",
   "nbconvert_exporter": "python",
   "pygments_lexer": "ipython3",
   "version": "3.6.1"
  }
 },
 "nbformat": 4,
 "nbformat_minor": 1
}
